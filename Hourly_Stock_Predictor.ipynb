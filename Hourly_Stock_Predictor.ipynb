{
  "nbformat": 4,
  "nbformat_minor": 0,
  "metadata": {
    "colab": {
      "provenance": [],
      "authorship_tag": "ABX9TyMNAxaypUKodLrO4ffSayQ+",
      "include_colab_link": true
    },
    "kernelspec": {
      "name": "python3",
      "display_name": "Python 3"
    },
    "language_info": {
      "name": "python"
    }
  },
  "cells": [
    {
      "cell_type": "markdown",
      "metadata": {
        "id": "view-in-github",
        "colab_type": "text"
      },
      "source": [
        "<a href=\"https://colab.research.google.com/github/AdityaB1234/StockPredictors/blob/main/Hourly_Stock_Predictor.ipynb\" target=\"_parent\"><img src=\"https://colab.research.google.com/assets/colab-badge.svg\" alt=\"Open In Colab\"/></a>"
      ]
    },
    {
      "cell_type": "code",
      "execution_count": null,
      "metadata": {
        "id": "Vzq1LYoJXWGB"
      },
      "outputs": [],
      "source": [
        "import matplotlib.pyplot as plt\n",
        "from tensorflow.keras.models import Sequential\n",
        "from tensorflow.keras.layers import Dense, Dropout, LSTM\n",
        "from sklearn.preprocessing import MinMaxScaler\n",
        "import yfinance as yfin\n",
        "import numpy as np\n",
        "import pandas as pd\n",
        "from pandas_datareader import data as pdr\n",
        "import datetime as dt\n",
        "\n",
        "company = \"DIS\"\n",
        "yfin.pdr_override()"
      ]
    },
    {
      "cell_type": "code",
      "source": [],
      "metadata": {
        "id": "HZW-oPDXXgKW"
      },
      "execution_count": null,
      "outputs": []
    },
    {
      "cell_type": "code",
      "source": [
        "hour_test = yfin.download(tickers=company,interval = '1h', start=\"2023-7-18\", end=\"2023-8-18\")\n",
        "hour_test.head()"
      ],
      "metadata": {
        "id": "yJXV1eM5XgMc",
        "colab": {
          "base_uri": "https://localhost:8080/",
          "height": 255
        },
        "outputId": "3f8fcf0a-ab64-48a8-978e-cb38707203f6"
      },
      "execution_count": null,
      "outputs": [
        {
          "output_type": "stream",
          "name": "stdout",
          "text": [
            "\r[*********************100%%**********************]  1 of 1 completed\n"
          ]
        },
        {
          "output_type": "execute_result",
          "data": {
            "text/plain": [
              "                                Open       High        Low      Close  \\\n",
              "Datetime                                                                \n",
              "2023-07-18 09:30:00-04:00  85.510002  87.300003  85.309998  86.635002   \n",
              "2023-07-18 10:30:00-04:00  86.639999  86.660004  86.180000  86.220001   \n",
              "2023-07-18 11:30:00-04:00  86.209999  86.260002  85.632103  85.760002   \n",
              "2023-07-18 12:30:00-04:00  85.760002  85.790001  85.440002  85.449997   \n",
              "2023-07-18 13:30:00-04:00  85.449997  86.290001  85.309998  86.280998   \n",
              "\n",
              "                           Adj Close   Volume  \n",
              "Datetime                                       \n",
              "2023-07-18 09:30:00-04:00  86.635002  5826020  \n",
              "2023-07-18 10:30:00-04:00  86.220001  2230787  \n",
              "2023-07-18 11:30:00-04:00  85.760002  2088755  \n",
              "2023-07-18 12:30:00-04:00  85.449997  2414434  \n",
              "2023-07-18 13:30:00-04:00  86.280998  2498146  "
            ],
            "text/html": [
              "\n",
              "  <div id=\"df-33ebaae0-8a36-4366-8edc-84b760b104aa\" class=\"colab-df-container\">\n",
              "    <div>\n",
              "<style scoped>\n",
              "    .dataframe tbody tr th:only-of-type {\n",
              "        vertical-align: middle;\n",
              "    }\n",
              "\n",
              "    .dataframe tbody tr th {\n",
              "        vertical-align: top;\n",
              "    }\n",
              "\n",
              "    .dataframe thead th {\n",
              "        text-align: right;\n",
              "    }\n",
              "</style>\n",
              "<table border=\"1\" class=\"dataframe\">\n",
              "  <thead>\n",
              "    <tr style=\"text-align: right;\">\n",
              "      <th></th>\n",
              "      <th>Open</th>\n",
              "      <th>High</th>\n",
              "      <th>Low</th>\n",
              "      <th>Close</th>\n",
              "      <th>Adj Close</th>\n",
              "      <th>Volume</th>\n",
              "    </tr>\n",
              "    <tr>\n",
              "      <th>Datetime</th>\n",
              "      <th></th>\n",
              "      <th></th>\n",
              "      <th></th>\n",
              "      <th></th>\n",
              "      <th></th>\n",
              "      <th></th>\n",
              "    </tr>\n",
              "  </thead>\n",
              "  <tbody>\n",
              "    <tr>\n",
              "      <th>2023-07-18 09:30:00-04:00</th>\n",
              "      <td>85.510002</td>\n",
              "      <td>87.300003</td>\n",
              "      <td>85.309998</td>\n",
              "      <td>86.635002</td>\n",
              "      <td>86.635002</td>\n",
              "      <td>5826020</td>\n",
              "    </tr>\n",
              "    <tr>\n",
              "      <th>2023-07-18 10:30:00-04:00</th>\n",
              "      <td>86.639999</td>\n",
              "      <td>86.660004</td>\n",
              "      <td>86.180000</td>\n",
              "      <td>86.220001</td>\n",
              "      <td>86.220001</td>\n",
              "      <td>2230787</td>\n",
              "    </tr>\n",
              "    <tr>\n",
              "      <th>2023-07-18 11:30:00-04:00</th>\n",
              "      <td>86.209999</td>\n",
              "      <td>86.260002</td>\n",
              "      <td>85.632103</td>\n",
              "      <td>85.760002</td>\n",
              "      <td>85.760002</td>\n",
              "      <td>2088755</td>\n",
              "    </tr>\n",
              "    <tr>\n",
              "      <th>2023-07-18 12:30:00-04:00</th>\n",
              "      <td>85.760002</td>\n",
              "      <td>85.790001</td>\n",
              "      <td>85.440002</td>\n",
              "      <td>85.449997</td>\n",
              "      <td>85.449997</td>\n",
              "      <td>2414434</td>\n",
              "    </tr>\n",
              "    <tr>\n",
              "      <th>2023-07-18 13:30:00-04:00</th>\n",
              "      <td>85.449997</td>\n",
              "      <td>86.290001</td>\n",
              "      <td>85.309998</td>\n",
              "      <td>86.280998</td>\n",
              "      <td>86.280998</td>\n",
              "      <td>2498146</td>\n",
              "    </tr>\n",
              "  </tbody>\n",
              "</table>\n",
              "</div>\n",
              "    <div class=\"colab-df-buttons\">\n",
              "\n",
              "  <div class=\"colab-df-container\">\n",
              "    <button class=\"colab-df-convert\" onclick=\"convertToInteractive('df-33ebaae0-8a36-4366-8edc-84b760b104aa')\"\n",
              "            title=\"Convert this dataframe to an interactive table.\"\n",
              "            style=\"display:none;\">\n",
              "\n",
              "  <svg xmlns=\"http://www.w3.org/2000/svg\" height=\"24px\" viewBox=\"0 -960 960 960\">\n",
              "    <path d=\"M120-120v-720h720v720H120Zm60-500h600v-160H180v160Zm220 220h160v-160H400v160Zm0 220h160v-160H400v160ZM180-400h160v-160H180v160Zm440 0h160v-160H620v160ZM180-180h160v-160H180v160Zm440 0h160v-160H620v160Z\"/>\n",
              "  </svg>\n",
              "    </button>\n",
              "\n",
              "  <style>\n",
              "    .colab-df-container {\n",
              "      display:flex;\n",
              "      gap: 12px;\n",
              "    }\n",
              "\n",
              "    .colab-df-convert {\n",
              "      background-color: #E8F0FE;\n",
              "      border: none;\n",
              "      border-radius: 50%;\n",
              "      cursor: pointer;\n",
              "      display: none;\n",
              "      fill: #1967D2;\n",
              "      height: 32px;\n",
              "      padding: 0 0 0 0;\n",
              "      width: 32px;\n",
              "    }\n",
              "\n",
              "    .colab-df-convert:hover {\n",
              "      background-color: #E2EBFA;\n",
              "      box-shadow: 0px 1px 2px rgba(60, 64, 67, 0.3), 0px 1px 3px 1px rgba(60, 64, 67, 0.15);\n",
              "      fill: #174EA6;\n",
              "    }\n",
              "\n",
              "    .colab-df-buttons div {\n",
              "      margin-bottom: 4px;\n",
              "    }\n",
              "\n",
              "    [theme=dark] .colab-df-convert {\n",
              "      background-color: #3B4455;\n",
              "      fill: #D2E3FC;\n",
              "    }\n",
              "\n",
              "    [theme=dark] .colab-df-convert:hover {\n",
              "      background-color: #434B5C;\n",
              "      box-shadow: 0px 1px 3px 1px rgba(0, 0, 0, 0.15);\n",
              "      filter: drop-shadow(0px 1px 2px rgba(0, 0, 0, 0.3));\n",
              "      fill: #FFFFFF;\n",
              "    }\n",
              "  </style>\n",
              "\n",
              "    <script>\n",
              "      const buttonEl =\n",
              "        document.querySelector('#df-33ebaae0-8a36-4366-8edc-84b760b104aa button.colab-df-convert');\n",
              "      buttonEl.style.display =\n",
              "        google.colab.kernel.accessAllowed ? 'block' : 'none';\n",
              "\n",
              "      async function convertToInteractive(key) {\n",
              "        const element = document.querySelector('#df-33ebaae0-8a36-4366-8edc-84b760b104aa');\n",
              "        const dataTable =\n",
              "          await google.colab.kernel.invokeFunction('convertToInteractive',\n",
              "                                                    [key], {});\n",
              "        if (!dataTable) return;\n",
              "\n",
              "        const docLinkHtml = 'Like what you see? Visit the ' +\n",
              "          '<a target=\"_blank\" href=https://colab.research.google.com/notebooks/data_table.ipynb>data table notebook</a>'\n",
              "          + ' to learn more about interactive tables.';\n",
              "        element.innerHTML = '';\n",
              "        dataTable['output_type'] = 'display_data';\n",
              "        await google.colab.output.renderOutput(dataTable, element);\n",
              "        const docLink = document.createElement('div');\n",
              "        docLink.innerHTML = docLinkHtml;\n",
              "        element.appendChild(docLink);\n",
              "      }\n",
              "    </script>\n",
              "  </div>\n",
              "\n",
              "\n",
              "<div id=\"df-126fdee0-4191-4ee9-80d1-0225fae47f3a\">\n",
              "  <button class=\"colab-df-quickchart\" onclick=\"quickchart('df-126fdee0-4191-4ee9-80d1-0225fae47f3a')\"\n",
              "            title=\"Suggest charts.\"\n",
              "            style=\"display:none;\">\n",
              "\n",
              "<svg xmlns=\"http://www.w3.org/2000/svg\" height=\"24px\"viewBox=\"0 0 24 24\"\n",
              "     width=\"24px\">\n",
              "    <g>\n",
              "        <path d=\"M19 3H5c-1.1 0-2 .9-2 2v14c0 1.1.9 2 2 2h14c1.1 0 2-.9 2-2V5c0-1.1-.9-2-2-2zM9 17H7v-7h2v7zm4 0h-2V7h2v10zm4 0h-2v-4h2v4z\"/>\n",
              "    </g>\n",
              "</svg>\n",
              "  </button>\n",
              "\n",
              "<style>\n",
              "  .colab-df-quickchart {\n",
              "      --bg-color: #E8F0FE;\n",
              "      --fill-color: #1967D2;\n",
              "      --hover-bg-color: #E2EBFA;\n",
              "      --hover-fill-color: #174EA6;\n",
              "      --disabled-fill-color: #AAA;\n",
              "      --disabled-bg-color: #DDD;\n",
              "  }\n",
              "\n",
              "  [theme=dark] .colab-df-quickchart {\n",
              "      --bg-color: #3B4455;\n",
              "      --fill-color: #D2E3FC;\n",
              "      --hover-bg-color: #434B5C;\n",
              "      --hover-fill-color: #FFFFFF;\n",
              "      --disabled-bg-color: #3B4455;\n",
              "      --disabled-fill-color: #666;\n",
              "  }\n",
              "\n",
              "  .colab-df-quickchart {\n",
              "    background-color: var(--bg-color);\n",
              "    border: none;\n",
              "    border-radius: 50%;\n",
              "    cursor: pointer;\n",
              "    display: none;\n",
              "    fill: var(--fill-color);\n",
              "    height: 32px;\n",
              "    padding: 0;\n",
              "    width: 32px;\n",
              "  }\n",
              "\n",
              "  .colab-df-quickchart:hover {\n",
              "    background-color: var(--hover-bg-color);\n",
              "    box-shadow: 0 1px 2px rgba(60, 64, 67, 0.3), 0 1px 3px 1px rgba(60, 64, 67, 0.15);\n",
              "    fill: var(--button-hover-fill-color);\n",
              "  }\n",
              "\n",
              "  .colab-df-quickchart-complete:disabled,\n",
              "  .colab-df-quickchart-complete:disabled:hover {\n",
              "    background-color: var(--disabled-bg-color);\n",
              "    fill: var(--disabled-fill-color);\n",
              "    box-shadow: none;\n",
              "  }\n",
              "\n",
              "  .colab-df-spinner {\n",
              "    border: 2px solid var(--fill-color);\n",
              "    border-color: transparent;\n",
              "    border-bottom-color: var(--fill-color);\n",
              "    animation:\n",
              "      spin 1s steps(1) infinite;\n",
              "  }\n",
              "\n",
              "  @keyframes spin {\n",
              "    0% {\n",
              "      border-color: transparent;\n",
              "      border-bottom-color: var(--fill-color);\n",
              "      border-left-color: var(--fill-color);\n",
              "    }\n",
              "    20% {\n",
              "      border-color: transparent;\n",
              "      border-left-color: var(--fill-color);\n",
              "      border-top-color: var(--fill-color);\n",
              "    }\n",
              "    30% {\n",
              "      border-color: transparent;\n",
              "      border-left-color: var(--fill-color);\n",
              "      border-top-color: var(--fill-color);\n",
              "      border-right-color: var(--fill-color);\n",
              "    }\n",
              "    40% {\n",
              "      border-color: transparent;\n",
              "      border-right-color: var(--fill-color);\n",
              "      border-top-color: var(--fill-color);\n",
              "    }\n",
              "    60% {\n",
              "      border-color: transparent;\n",
              "      border-right-color: var(--fill-color);\n",
              "    }\n",
              "    80% {\n",
              "      border-color: transparent;\n",
              "      border-right-color: var(--fill-color);\n",
              "      border-bottom-color: var(--fill-color);\n",
              "    }\n",
              "    90% {\n",
              "      border-color: transparent;\n",
              "      border-bottom-color: var(--fill-color);\n",
              "    }\n",
              "  }\n",
              "</style>\n",
              "\n",
              "  <script>\n",
              "    async function quickchart(key) {\n",
              "      const quickchartButtonEl =\n",
              "        document.querySelector('#' + key + ' button');\n",
              "      quickchartButtonEl.disabled = true;  // To prevent multiple clicks.\n",
              "      quickchartButtonEl.classList.add('colab-df-spinner');\n",
              "      try {\n",
              "        const charts = await google.colab.kernel.invokeFunction(\n",
              "            'suggestCharts', [key], {});\n",
              "      } catch (error) {\n",
              "        console.error('Error during call to suggestCharts:', error);\n",
              "      }\n",
              "      quickchartButtonEl.classList.remove('colab-df-spinner');\n",
              "      quickchartButtonEl.classList.add('colab-df-quickchart-complete');\n",
              "    }\n",
              "    (() => {\n",
              "      let quickchartButtonEl =\n",
              "        document.querySelector('#df-126fdee0-4191-4ee9-80d1-0225fae47f3a button');\n",
              "      quickchartButtonEl.style.display =\n",
              "        google.colab.kernel.accessAllowed ? 'block' : 'none';\n",
              "    })();\n",
              "  </script>\n",
              "</div>\n",
              "    </div>\n",
              "  </div>\n"
            ]
          },
          "metadata": {},
          "execution_count": 146
        }
      ]
    },
    {
      "cell_type": "code",
      "source": [
        "scaler = MinMaxScaler(feature_range=(0,1))\n",
        "scaled_info = scaler.fit_transform(hour_test[\"Close\"].values.reshape(-1,1))"
      ],
      "metadata": {
        "id": "j7nagSjLXgOj"
      },
      "execution_count": null,
      "outputs": []
    },
    {
      "cell_type": "code",
      "source": [
        "x_train = []\n",
        "y_train = []\n",
        "prediction_hours = 60"
      ],
      "metadata": {
        "id": "HVErqOEBXgS3"
      },
      "execution_count": null,
      "outputs": []
    },
    {
      "cell_type": "code",
      "source": [
        "for i in range(prediction_hours, len(scaled_info)):\n",
        "    x_train.append(scaled_info[i-prediction_hours:i,0] )\n",
        "    y_train.append(scaled_info[i,0])\n"
      ],
      "metadata": {
        "id": "t1xf9WnAXgXi"
      },
      "execution_count": null,
      "outputs": []
    },
    {
      "cell_type": "code",
      "source": [
        "x_train = np.array(x_train)\n",
        "y_train = np.array(y_train)\n",
        "\n",
        "x_train = np.reshape(x_train, (x_train.shape[0], x_train.shape[1],1 ))"
      ],
      "metadata": {
        "id": "IqyNF3d9XgZq"
      },
      "execution_count": null,
      "outputs": []
    },
    {
      "cell_type": "code",
      "source": [
        "model = Sequential()\n",
        "model.add(LSTM(units=25, return_sequences=True, input_shape=(x_train.shape[1], 1)))\n",
        "model.add(Dropout(0.2))\n",
        "model.add(LSTM(units=25, return_sequences=True, input_shape=(x_train.shape[1], 1)))\n",
        "model.add(Dropout(0.2))\n",
        "model.add(LSTM(units=25, return_sequences=True, input_shape=(x_train.shape[1], 1)))\n",
        "model.add(Dropout(0.2))\n",
        "model.add(LSTM(units=25, return_sequences=True, input_shape=(x_train.shape[1], 1)))\n",
        "model.add(Dropout(0.2))\n",
        "model.add(LSTM(units=25, return_sequences=True, input_shape=(x_train.shape[1], 1)))\n",
        "model.add(Dropout(0.2))\n",
        "model.add(LSTM(units=25, return_sequences=True, input_shape=(x_train.shape[1], 1)))\n",
        "model.add(Dropout(0.2))\n",
        "model.add(LSTM(units=25, return_sequences=False, input_shape=(x_train.shape[1], 1)))\n",
        "model.add(Dropout(0.2))\n",
        "model.add(Dense(units=1))"
      ],
      "metadata": {
        "id": "F3l0hjLmXgee"
      },
      "execution_count": null,
      "outputs": []
    },
    {
      "cell_type": "code",
      "source": [
        "model.compile(optimizer=\"adam\", loss=\"mean_squared_error\")"
      ],
      "metadata": {
        "id": "_chQQKQnXghH"
      },
      "execution_count": null,
      "outputs": []
    },
    {
      "cell_type": "code",
      "source": [
        "model.fit(x_train, y_train, epochs=50, batch_size=16)\n",
        "hour_Real = yfin.download(company, interval=\"1h\", start=\"2023-8-18\", end =\"2023-9-18\")"
      ],
      "metadata": {
        "id": "-_mBB7ICXgjY",
        "colab": {
          "base_uri": "https://localhost:8080/"
        },
        "outputId": "4d3d063e-abe4-4eb0-ceac-8d803b12b4be"
      },
      "execution_count": null,
      "outputs": [
        {
          "output_type": "stream",
          "name": "stdout",
          "text": [
            "Epoch 1/50\n",
            "7/7 [==============================] - 18s 185ms/step - loss: 0.1460\n",
            "Epoch 2/50\n",
            "7/7 [==============================] - 1s 181ms/step - loss: 0.0616\n",
            "Epoch 3/50\n",
            "7/7 [==============================] - 2s 276ms/step - loss: 0.0621\n",
            "Epoch 4/50\n",
            "7/7 [==============================] - 2s 238ms/step - loss: 0.0576\n",
            "Epoch 5/50\n",
            "7/7 [==============================] - 1s 193ms/step - loss: 0.0539\n",
            "Epoch 6/50\n",
            "7/7 [==============================] - 1s 184ms/step - loss: 0.0516\n",
            "Epoch 7/50\n",
            "7/7 [==============================] - 1s 183ms/step - loss: 0.0428\n",
            "Epoch 8/50\n",
            "7/7 [==============================] - 1s 179ms/step - loss: 0.0468\n",
            "Epoch 9/50\n",
            "7/7 [==============================] - 1s 189ms/step - loss: 0.0458\n",
            "Epoch 10/50\n",
            "7/7 [==============================] - 1s 190ms/step - loss: 0.0435\n",
            "Epoch 11/50\n",
            "7/7 [==============================] - 1s 180ms/step - loss: 0.0383\n",
            "Epoch 12/50\n",
            "7/7 [==============================] - 2s 266ms/step - loss: 0.0363\n",
            "Epoch 13/50\n",
            "7/7 [==============================] - 2s 257ms/step - loss: 0.0337\n",
            "Epoch 14/50\n",
            "7/7 [==============================] - 1s 186ms/step - loss: 0.0305\n",
            "Epoch 15/50\n",
            "7/7 [==============================] - 1s 186ms/step - loss: 0.0275\n",
            "Epoch 16/50\n",
            "7/7 [==============================] - 1s 178ms/step - loss: 0.0287\n",
            "Epoch 17/50\n",
            "7/7 [==============================] - 1s 188ms/step - loss: 0.0275\n",
            "Epoch 18/50\n",
            "7/7 [==============================] - 1s 181ms/step - loss: 0.0207\n",
            "Epoch 19/50\n",
            "7/7 [==============================] - 1s 190ms/step - loss: 0.0231\n",
            "Epoch 20/50\n",
            "7/7 [==============================] - 1s 187ms/step - loss: 0.0224\n",
            "Epoch 21/50\n",
            "7/7 [==============================] - 2s 244ms/step - loss: 0.0183\n",
            "Epoch 22/50\n",
            "7/7 [==============================] - 2s 271ms/step - loss: 0.0211\n",
            "Epoch 23/50\n",
            "7/7 [==============================] - 1s 180ms/step - loss: 0.0206\n",
            "Epoch 24/50\n",
            "7/7 [==============================] - 1s 181ms/step - loss: 0.0213\n",
            "Epoch 25/50\n",
            "7/7 [==============================] - 1s 190ms/step - loss: 0.0190\n",
            "Epoch 26/50\n",
            "7/7 [==============================] - 1s 187ms/step - loss: 0.0194\n",
            "Epoch 27/50\n",
            "7/7 [==============================] - 1s 180ms/step - loss: 0.0176\n",
            "Epoch 28/50\n",
            "7/7 [==============================] - 1s 187ms/step - loss: 0.0156\n",
            "Epoch 29/50\n",
            "7/7 [==============================] - 1s 184ms/step - loss: 0.0181\n",
            "Epoch 30/50\n",
            "7/7 [==============================] - 1s 217ms/step - loss: 0.0182\n",
            "Epoch 31/50\n",
            "7/7 [==============================] - 2s 286ms/step - loss: 0.0166\n",
            "Epoch 32/50\n",
            "7/7 [==============================] - 1s 183ms/step - loss: 0.0160\n",
            "Epoch 33/50\n",
            "7/7 [==============================] - 1s 182ms/step - loss: 0.0142\n",
            "Epoch 34/50\n",
            "7/7 [==============================] - 1s 188ms/step - loss: 0.0220\n",
            "Epoch 35/50\n",
            "7/7 [==============================] - 1s 181ms/step - loss: 0.0139\n",
            "Epoch 36/50\n",
            "7/7 [==============================] - 1s 183ms/step - loss: 0.0162\n",
            "Epoch 37/50\n",
            "7/7 [==============================] - 1s 187ms/step - loss: 0.0183\n",
            "Epoch 38/50\n",
            "7/7 [==============================] - 1s 188ms/step - loss: 0.0247\n",
            "Epoch 39/50\n",
            "7/7 [==============================] - 1s 199ms/step - loss: 0.0208\n",
            "Epoch 40/50\n",
            "7/7 [==============================] - 2s 279ms/step - loss: 0.0118\n",
            "Epoch 41/50\n",
            "7/7 [==============================] - 2s 212ms/step - loss: 0.0144\n",
            "Epoch 42/50\n",
            "7/7 [==============================] - 1s 192ms/step - loss: 0.0143\n",
            "Epoch 43/50\n",
            "7/7 [==============================] - 1s 191ms/step - loss: 0.0151\n",
            "Epoch 44/50\n",
            "7/7 [==============================] - 1s 181ms/step - loss: 0.0126\n",
            "Epoch 45/50\n",
            "7/7 [==============================] - 1s 190ms/step - loss: 0.0132\n",
            "Epoch 46/50\n",
            "7/7 [==============================] - 1s 184ms/step - loss: 0.0112\n",
            "Epoch 47/50\n",
            "7/7 [==============================] - 1s 184ms/step - loss: 0.0125\n",
            "Epoch 48/50\n",
            "7/7 [==============================] - 1s 197ms/step - loss: 0.0143\n",
            "Epoch 49/50\n",
            "7/7 [==============================] - 2s 271ms/step - loss: 0.0147\n",
            "Epoch 50/50\n",
            "7/7 [==============================] - 1s 187ms/step - loss: 0.0104\n",
            "[*********************100%%**********************]  1 of 1 completed\n"
          ]
        }
      ]
    },
    {
      "cell_type": "code",
      "source": [
        "x_test = []\n",
        "actual_Info = hour_Real[\"Close\"].values\n",
        "total_dataset = pd.concat((hour_test[\"Close\"], hour_Real[\"Close\"]), axis =0)\n",
        "model_inputs = total_dataset[len(total_dataset) - len(hour_test) - prediction_hours:].values\n",
        "model_inputs = model_inputs.reshape(-1,1)\n",
        "model_inputs = scaler.transform(model_inputs)\n",
        "for i in range(prediction_hours, len(model_inputs)):\n",
        "  x_test.append(model_inputs[i - prediction_hours:i])\n",
        "\n",
        "\n",
        "\n"
      ],
      "metadata": {
        "id": "YQyZfnmjXgnT"
      },
      "execution_count": null,
      "outputs": []
    },
    {
      "cell_type": "code",
      "source": [
        "x_test = np.array(x_test)\n",
        "x_test = np.reshape(x_test, (x_test.shape[0], x_test.shape[1],1 ))\n",
        "predicted_prices = model.predict(x_test)\n",
        "predicted_prices = scaler.inverse_transform(predicted_prices)\n"
      ],
      "metadata": {
        "colab": {
          "base_uri": "https://localhost:8080/"
        },
        "id": "YpdLjHQx96b1",
        "outputId": "2757cf98-578d-4c7b-b49a-ab66914881f1"
      },
      "execution_count": null,
      "outputs": [
        {
          "output_type": "stream",
          "name": "stdout",
          "text": [
            "6/6 [==============================] - 3s 45ms/step\n"
          ]
        }
      ]
    },
    {
      "cell_type": "code",
      "source": [
        "plt.plot(actual_Info, color=\"black\", label = f\"Actual {company} Share Price\")\n",
        "plt.plot(predicted_prices, color=\"green\", label= f\"Predicted {company} Share Price\")\n",
        "plt.title(f\"{company} Share Price\")\n",
        "plt.xlabel(\"Time\")\n",
        "plt.ylabel(f\"{company} Share Price\")\n",
        "plt.legend()\n",
        "plt.show()"
      ],
      "metadata": {
        "colab": {
          "base_uri": "https://localhost:8080/",
          "height": 472
        },
        "id": "3gDkckepC-gG",
        "outputId": "68e6d48b-f61c-4924-c85b-633a88ded3fe"
      },
      "execution_count": null,
      "outputs": [
        {
          "output_type": "display_data",
          "data": {
            "text/plain": [
              "<Figure size 640x480 with 1 Axes>"
            ],
            "image/png": "[encoded data removed]"
          },
          "metadata": {}
        }
      ]
    },
    {
      "cell_type": "code",
      "source": [
        "real_data=[model_inputs[len(model_inputs) + 1 - prediction_hours:len(model_inputs+1), 0]]\n",
        "real_data = np.array(real_data)\n",
        "real_data = np.reshape(real_data, (real_data.shape[0], real_data.shape[1], 1))\n",
        "prediction = model.predict(real_data)\n",
        "prediction = scaler.inverse_transform(prediction)\n",
        "print(f\"Prediction: {prediction} \")\n",
        "\n"
      ],
      "metadata": {
        "colab": {
          "base_uri": "https://localhost:8080/"
        },
        "id": "qACJeaT3C-iI",
        "outputId": "79cfb4bc-53f9-405b-c082-6c5cc91d2d55"
      },
      "execution_count": null,
      "outputs": [
        {
          "output_type": "stream",
          "name": "stdout",
          "text": [
            "1/1 [==============================] - 3s 3s/step\n",
            "Prediction: [[83.47704]] \n"
          ]
        }
      ]
    },
    {
      "cell_type": "code",
      "source": [],
      "metadata": {
        "id": "mSoMGQKVC-kO"
      },
      "execution_count": null,
      "outputs": []
    },
    {
      "cell_type": "code",
      "source": [],
      "metadata": {
        "id": "C9Ttg833C-mD"
      },
      "execution_count": null,
      "outputs": []
    }
  ]
}